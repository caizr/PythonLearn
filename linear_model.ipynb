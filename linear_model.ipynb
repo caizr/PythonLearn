{
 "cells": [
  {
   "cell_type": "code",
   "execution_count": 1,
   "metadata": {},
   "outputs": [],
   "source": [
    "import pandas as pd\n",
    "import numpy as np\n",
    "import matplotlib.pyplot as plt\n",
    "import math"
   ]
  },
  {
   "cell_type": "code",
   "execution_count": 2,
   "metadata": {},
   "outputs": [],
   "source": [
    "x_data=[ 338.,333.,328.,207.,226.,25.,179.,60.,208.,606.]\n",
    "y_data=[640.,633.,619.,393.,428.,27.,193.,66.,226.,1591.]\n"
   ]
  },
  {
   "cell_type": "code",
   "execution_count": 3,
   "metadata": {},
   "outputs": [],
   "source": [
    "#定义损失函数，L(w,b)= sum[(y_hat - (b-wx))]^2\n",
    "def loss_f(w,b,y,x):\n",
    "    if(len(y) != len(x)):\n",
    "        print(\"Error! The length of y is not equal to x's !\")\n",
    "        return -1\n",
    "    loss=0\n",
    "    for i in range(len(y)):\n",
    "        loss+=(y[i]-(b+w*x[i]))**2\n",
    "    return loss\n",
    "#定义dl/dw:\n",
    "def dl_dw(w,b,y,x):\n",
    "    if(len(y) != len(x)):\n",
    "        print(\"Error! The length of y is not equal to x's !\")\n",
    "        return -1\n",
    "    value=0\n",
    "    for i in range(len(y)):\n",
    "        value = value+2*(y[i]-(b+w*x[i]))*(-x[i])\n",
    "    return  value\n",
    "#定义dl/db\n",
    "def dl_db(w,b,y,x):\n",
    "    if(len(y) != len(x)):\n",
    "        print(\"Error! The length of y is not equal to x's !\")\n",
    "        return -1\n",
    "    value=0\n",
    "    for i in range(len(y)):\n",
    "        value= value+ (-2)*(y[i]-(b+w*x[i]))\n",
    "    return value"
   ]
  },
  {
   "cell_type": "code",
   "execution_count": 4,
   "metadata": {},
   "outputs": [],
   "source": [
    "#init b,and w,Interation\n",
    "b=-120;w=-4;iteration = 1000000;\n",
    "#learning_rate\n",
    "lr_b=0\n",
    "lr_w=0\n",
    "n=1\n",
    "#store for plotting\n",
    "b_history=[b]\n",
    "w_history=[w]"
   ]
  },
  {
   "cell_type": "code",
   "execution_count": 5,
   "metadata": {},
   "outputs": [],
   "source": [
    "# for i in range(iteration):\n",
    "#     w_new=dl_dw(w,b,y_data,x_data)\n",
    "#     b_new=dl_db(w,b,y_data,x_data)\n",
    "#     if(w_new<0):\n",
    "#         w_new=w-n*w_new\n",
    "#         b_new=b-n*b_new\n",
    "#     elif(w_new>0):\n",
    "#         w_new=w+n*w_new\n",
    "#         b_new=b+n*b_new\n",
    "#     w=w_new\n",
    "#     b=b_new"
   ]
  },
  {
   "cell_type": "code",
   "execution_count": 6,
   "metadata": {},
   "outputs": [],
   "source": [
    "for i in range(iteration):\n",
    "    w_new=dl_dw(w,b,y_data,x_data)\n",
    "    b_new=dl_db(w,b,y_data,x_data)\n",
    "    \n",
    "    lr_b=lr_b+b_new**2\n",
    "    lr_w=lr_w+w_new**2\n",
    "    \n",
    "    w_new=w-n/np.sqrt(lr_w)*w_new\n",
    "    b_new=b-n/np.sqrt(lr_b)*b_new\n",
    "    w=w_new\n",
    "    b=b_new\n",
    "    b_history.append(b)\n",
    "    w_history.append(w)"
   ]
  },
  {
   "cell_type": "code",
   "execution_count": 7,
   "metadata": {},
   "outputs": [
    {
     "data": {
      "text/plain": [
       "2.669454966761663"
      ]
     },
     "execution_count": 7,
     "metadata": {},
     "output_type": "execute_result"
    }
   ],
   "source": [
    "w"
   ]
  },
  {
   "cell_type": "code",
   "execution_count": 8,
   "metadata": {},
   "outputs": [
    {
     "data": {
      "text/plain": [
       "-188.43319665712087"
      ]
     },
     "execution_count": 8,
     "metadata": {},
     "output_type": "execute_result"
    }
   ],
   "source": [
    "b"
   ]
  },
  {
   "cell_type": "code",
   "execution_count": 9,
   "metadata": {},
   "outputs": [
    {
     "data": {
      "text/plain": [
       "101936.72989589066"
      ]
     },
     "execution_count": 9,
     "metadata": {},
     "output_type": "execute_result"
    }
   ],
   "source": [
    "loss_f(w,b,y_data,x_data)"
   ]
  },
  {
   "cell_type": "code",
   "execution_count": 10,
   "metadata": {},
   "outputs": [],
   "source": [
    "x=np.arange(-200,-100,1)\n",
    "y=np.arange(-5,5,0.1)\n",
    "z=np.zeros((len(x),len(y)))"
   ]
  },
  {
   "cell_type": "code",
   "execution_count": 11,
   "metadata": {},
   "outputs": [],
   "source": [
    "X,Y=np.meshgrid(x,y)"
   ]
  },
  {
   "cell_type": "code",
   "execution_count": 12,
   "metadata": {},
   "outputs": [
    {
     "data": {
      "text/plain": [
       "(-5, 5)"
      ]
     },
     "execution_count": 12,
     "metadata": {},
     "output_type": "execute_result"
    },
    {
     "data": {
      "image/png": "[encoded data removed]",
      "text/plain": [
       "<Figure size 432x288 with 1 Axes>"
      ]
     },
     "metadata": {
      "needs_background": "light"
     },
     "output_type": "display_data"
    }
   ],
   "source": [
    "for i in range(len(x)):\n",
    "    for j in range(len(y)):\n",
    "        b=x[i]\n",
    "        w=y[i]\n",
    "        z[j][i]=0\n",
    "        for n in range(len(x_data)):\n",
    "            z[j][i]=z[j][i]+(y_data[n]-(-120)-w*x_data[n])**2\n",
    "        z[j][i]=z[j][i]/len(x_data)\n",
    "plt.contourf(x,y,z,50,alpha=0.5,cmap=plt.get_cmap('jet'))\n",
    "plt.plot([-188.4],[2.67],'x',ms=12,markeredgewidth=3,color='orange')\n",
    "plt.xlim(-200,-100)\n",
    "plt.ylim(-5,5)\n"
   ]
  },
  {
   "cell_type": "code",
   "execution_count": null,
   "metadata": {},
   "outputs": [],
   "source": []
  }
 ],
 "metadata": {
  "kernelspec": {
   "display_name": "Python 3",
   "language": "python",
   "name": "python3"
  },
  "language_info": {
   "codemirror_mode": {
    "name": "ipython",
    "version": 3
   },
   "file_extension": ".py",
   "mimetype": "text/x-python",
   "name": "python",
   "nbconvert_exporter": "python",
   "pygments_lexer": "ipython3",
   "version": "3.7.3"
  }
 },
 "nbformat": 4,
 "nbformat_minor": 2
}
